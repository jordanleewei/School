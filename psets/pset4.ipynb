{
 "cells": [
  {
   "cell_type": "code",
   "execution_count": 1,
   "metadata": {},
   "outputs": [
    {
     "name": "stdout",
     "output_type": "stream",
     "text": [
      "Your BMI is 25.1 and your category is moderate risk.\n"
     ]
    }
   ],
   "source": [
    "def calculate_bmi(weight,height):\n",
    "    height = height/100\n",
    "    bmi = weight / (height**2)\n",
    "    return round(bmi, 1)\n",
    "\n",
    "def describe_bmi(bmi):\n",
    "  if bmi < 18.5:\n",
    "    return \"nutritional deficiency\"\n",
    "  elif bmi < 23:\n",
    "    return \"low risk\"\n",
    "  elif bmi < 27.5:\n",
    "    return \"moderate risk\"\n",
    "  else:\n",
    "    return \"high risk\"\n",
    "\n",
    "def bmi_information(weight, height):\n",
    "    bmi = calculate_bmi(weight,height)\n",
    "    risk = describe_bmi(bmi)\n",
    "    information = f\"Your BMI is {bmi} and your category is {risk}.\"\n",
    "    return information\n",
    "\n",
    "info = bmi_information( 70, 167) \n",
    "print(info)\n"
   ]
  },
  {
   "cell_type": "code",
   "execution_count": 1,
   "metadata": {},
   "outputs": [
    {
     "name": "stdout",
     "output_type": "stream",
     "text": [
      "uoy esoohc I\n"
     ]
    }
   ],
   "source": [
    "def reverse(s):\n",
    "    return s[::-1]\n",
    "\n",
    "result = reverse('I choose you')\n",
    "print(result)\n",
    "        "
   ]
  },
  {
   "cell_type": "code",
   "execution_count": 14,
   "metadata": {},
   "outputs": [
    {
     "name": "stdout",
     "output_type": "stream",
     "text": [
      "True\n",
      "False\n"
     ]
    }
   ],
   "source": [
    "def is_palindrome(s):\n",
    "    length = (len(s) // 2)\n",
    "    if s[:length] == s[length+1:][::-1]:\n",
    "        return True\n",
    "    else:\n",
    "        return False\n",
    "    \n",
    "result = is_palindrome('civic')\n",
    "print(result)\n",
    "result = is_palindrome('sonar')\n",
    "print(result)"
   ]
  },
  {
   "cell_type": "code",
   "execution_count": 27,
   "metadata": {},
   "outputs": [
    {
     "name": "stdout",
     "output_type": "stream",
     "text": [
      "True\n"
     ]
    }
   ],
   "source": [
    "def match(ending, word):\n",
    "    if ending == word[len(word) - len(ending):]:\n",
    "        return True\n",
    "    else:\n",
    "        return False\n",
    "\n",
    "print(match(\"nusa\", \"facultynusa\"))"
   ]
  },
  {
   "cell_type": "code",
   "execution_count": 1,
   "metadata": {},
   "outputs": [
    {
     "name": "stdout",
     "output_type": "stream",
     "text": [
      "False\n",
      "False\n",
      "False\n",
      "True\n"
     ]
    }
   ],
   "source": [
    "def check_password(pwd):\n",
    "    valid = True\n",
    "    digits = [int(i) for i in list(pwd) if i.isdigit()]\n",
    "    if len(pwd) < 8:\n",
    "        valid = False\n",
    "    elif not pwd.isalnum():\n",
    "        valid = False\n",
    "    elif len(digits) < 2:\n",
    "        valid = False\n",
    "    return valid\n",
    "\n",
    "ans = check_password('test') \n",
    "print(ans)\n",
    "ans=check_password('testtest') \n",
    "print(ans)\n",
    "ans=check_password('testt22') \n",
    "print(ans)\n",
    "ans=check_password('testte222') \n",
    "print(ans)"
   ]
  },
  {
   "cell_type": "code",
   "execution_count": 42,
   "metadata": {},
   "outputs": [
    {
     "name": "stdout",
     "output_type": "stream",
     "text": [
      "dis\n",
      "te\n",
      "\n"
     ]
    }
   ],
   "source": [
    "def longest_common_prefix(s1, s2):\n",
    "    common = []\n",
    "    for i in range(len(s1)):\n",
    "        if s1[i] == s2[i]:\n",
    "            common.append(s1[i])\n",
    "        else:\n",
    "            break\n",
    "    return \"\".join(common)\n",
    "\n",
    "ans=longest_common_prefix('distance','disinfection') \n",
    "print(ans)\n",
    "ans=longest_common_prefix('testing','technical') \n",
    "print(ans)\n",
    "ans=longest_common_prefix('rosses','crosses') \n",
    "print(ans)"
   ]
  },
  {
   "cell_type": "code",
   "execution_count": 43,
   "metadata": {},
   "outputs": [
    {
     "name": "stdout",
     "output_type": "stream",
     "text": [
      "4\n",
      "5\n",
      "17\n",
      "21\n"
     ]
    }
   ],
   "source": [
    "def binary_to_decimal(s):\n",
    "    return int(s,2)\n",
    "\n",
    "print(binary_to_decimal('100'))  \n",
    "print(binary_to_decimal('101'))  \n",
    "print(binary_to_decimal('10001'))  \n",
    "print(binary_to_decimal('10101'))"
   ]
  },
  {
   "cell_type": "code",
   "execution_count": 51,
   "metadata": {},
   "outputs": [
    {
     "name": "stdout",
     "output_type": "stream",
     "text": [
      "['a', 'b']\n",
      "[3, 2]\n"
     ]
    },
    {
     "data": {
      "text/plain": [
       "'aaabb'"
      ]
     },
     "execution_count": 51,
     "metadata": {},
     "output_type": "execute_result"
    }
   ],
   "source": [
    "def uncompressed(s):\n",
    "    numbers = [int(i) for i in list(s) if i.isdigit()]\n",
    "    letters = [c for c in list(s) if c.isalpha()]\n",
    "    output = []\n",
    "    for i in range(len(numbers)):\n",
    "        output.append(numbers[i] * letters[i])\n",
    "    return \"\".join(output)\n",
    "    \n",
    "uncompressed(\"3a2b\")"
   ]
  },
  {
   "cell_type": "code",
   "execution_count": 55,
   "metadata": {},
   "outputs": [
    {
     "name": "stdout",
     "output_type": "stream",
     "text": [
      "[2, 3, 1, 1]\n",
      "[2, 2, 1, 0]\n",
      "[]\n"
     ]
    }
   ],
   "source": [
    "def get_base_counts(dna):\n",
    "    dna = list(dna)\n",
    "    output = [0,0,0,0]\n",
    "    for letter in dna:\n",
    "        if letter == \"A\": output[0] += 1\n",
    "        elif letter == \"C\": output[1] += 1\n",
    "        elif letter == \"G\": output[2] += 1\n",
    "        elif letter == \"T\": output[3] += 1\n",
    "        else: return []\n",
    "    return output\n",
    "        \n",
    "result = get_base_counts('AACCCGT')\n",
    "print(result)\n",
    "result = get_base_counts('AACCG')\n",
    "print(result)\n",
    "result = get_base_counts('AAB')\n",
    "print(result)            \n",
    "        \n",
    "    "
   ]
  },
  {
   "cell_type": "code",
   "execution_count": null,
   "metadata": {},
   "outputs": [],
   "source": []
  }
 ],
 "metadata": {
  "interpreter": {
   "hash": "949777d72b0d2535278d3dc13498b2535136f6dfe0678499012e853ee9abcab1"
  },
  "kernelspec": {
   "display_name": "Python 3",
   "language": "python",
   "name": "python3"
  },
  "language_info": {
   "codemirror_mode": {
    "name": "ipython",
    "version": 3
   },
   "file_extension": ".py",
   "mimetype": "text/x-python",
   "name": "python",
   "nbconvert_exporter": "python",
   "pygments_lexer": "ipython3",
   "version": "3.8.8"
  }
 },
 "nbformat": 4,
 "nbformat_minor": 2
}
