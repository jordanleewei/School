{
 "cells": [
  {
   "cell_type": "code",
   "execution_count": 2,
   "id": "0e00c621",
   "metadata": {},
   "outputs": [
    {
     "name": "stdout",
     "output_type": "stream",
     "text": [
      "[3, 5, 6, 7, 8]\n",
      "6\n",
      "[3, 5, 6, 7, 8, 9]\n",
      "6.5\n"
     ]
    }
   ],
   "source": [
    "def median(ls):\n",
    "    ls = sorted(ls)\n",
    "    value = 0\n",
    "    if len(ls) % 2 == 0:\n",
    "        #even\n",
    "        value = (ls[int(len(ls)/2)] + ls[int((len(ls)/2) - 1)]) / 2\n",
    "    else:\n",
    "        value = ls[len(ls) // 2]\n",
    "    \n",
    "    return value\n"
   ]
  },
  {
   "cell_type": "code",
   "execution_count": 8,
   "id": "c1feaa6d",
   "metadata": {},
   "outputs": [
    {
     "name": "stdout",
     "output_type": "stream",
     "text": [
      "[]\n",
      "[9]\n"
     ]
    }
   ],
   "source": [
    "def middle_list(ls):\n",
    "    del ls[0]\n",
    "    del ls[-1]\n",
    "    return ls"
   ]
  },
  {
   "cell_type": "code",
   "execution_count": 11,
   "id": "db51f76f",
   "metadata": {},
   "outputs": [
    {
     "name": "stdout",
     "output_type": "stream",
     "text": [
      "[3, 6, 7, 8]\n",
      "False\n",
      "[3, 7, 8, 6]\n",
      "None\n"
     ]
    }
   ],
   "source": [
    "def swap_elements(ls, index1, index2):\n",
    "    length = len(ls)\n",
    "    if index1 >= length or index2 >= length:\n",
    "        return None\n",
    "    newlist = ls.copy()\n",
    "    newlist[index1] = ls[index2]\n",
    "    newlist[index2] = ls[index1]\n",
    "    return newlist"
   ]
  },
  {
   "cell_type": "code",
   "execution_count": 17,
   "id": "eeea3c3e",
   "metadata": {},
   "outputs": [
    {
     "name": "stdout",
     "output_type": "stream",
     "text": [
      "4\n",
      "70\n"
     ]
    }
   ],
   "source": [
    "def sum_odd_numbers(ls):\n",
    "    odd = [0]\n",
    "    for i in ls:\n",
    "        if i % 2 != 0 and i > 0:\n",
    "            odd.append(i)\n",
    "    return sum(odd)"
   ]
  },
  {
   "cell_type": "code",
   "execution_count": 20,
   "id": "b90a66b5",
   "metadata": {},
   "outputs": [
    {
     "name": "stdout",
     "output_type": "stream",
     "text": [
      "[4, 2, 1]\n",
      "[5, 16, 8, 4, 2, 1]\n"
     ]
    }
   ],
   "source": [
    "def hailstone(n):\n",
    "    sequence = [n]\n",
    "    while n > 1:\n",
    "        if n % 2 == 0:\n",
    "            n = n/2\n",
    "            sequence.append(int(n))\n",
    "        else:\n",
    "            n = (3*n)+1\n",
    "            sequence.append(int(n))\n",
    "    return sequence"
   ]
  },
  {
   "cell_type": "code",
   "execution_count": 21,
   "id": "3088cc94",
   "metadata": {},
   "outputs": [
    {
     "name": "stdout",
     "output_type": "stream",
     "text": [
      "[1, 3]\n",
      "[-3, 27, 43]\n"
     ]
    }
   ],
   "source": [
    "def get_odd_numbers(ls):\n",
    "    newlist = []\n",
    "    for number in ls:\n",
    "        if number % 2 != 0:\n",
    "            newlist.append(number)\n",
    "    newlist = sorted(newlist)\n",
    "    return newlist"
   ]
  },
  {
   "cell_type": "code",
   "execution_count": 38,
   "id": "fde7a1d7",
   "metadata": {},
   "outputs": [
    {
     "name": "stdout",
     "output_type": "stream",
     "text": [
      "[30.0, 36.7, 38.3, 48.3]\n"
     ]
    }
   ],
   "source": [
    "def moving_average(ls):\n",
    "    ma = []\n",
    "    for i in range(2,len(ls)):\n",
    "        ma.append(round((float(ls[i]) + float(ls[i-1]) + float(ls[i-2]))/3, 1))\n",
    "\n",
    "    return ma"
   ]
  },
  {
   "cell_type": "code",
   "execution_count": 40,
   "id": "474d9b71",
   "metadata": {},
   "outputs": [
    {
     "name": "stdout",
     "output_type": "stream",
     "text": [
      "60.0\n"
     ]
    }
   ],
   "source": [
    "def trapezoidal_rule(f, dx):\n",
    "    if len(f) <= 1:\n",
    "        return 0\n",
    "    \n",
    "    sequence = (1/2) * dx * (f[0] + (2 * sum(f[1:-1])) + f[-1])\n",
    "    return sequence"
   ]
  },
  {
   "cell_type": "code",
   "execution_count": 46,
   "id": "6dc6952e",
   "metadata": {},
   "outputs": [
    {
     "name": "stdout",
     "output_type": "stream",
     "text": [
      "8.8\n"
     ]
    }
   ],
   "source": [
    "def left_riemann_sum(x,y):\n",
    "    areas = []\n",
    "    x_values = []\n",
    "    if len(x) <= 1 or len(y) <= 1:\n",
    "        return 0\n",
    "    for i in range(1,len(x)):\n",
    "        x_values.append(x[i] - x[i - 1])\n",
    "    \n",
    "    for i in range(0,len(x_values)):\n",
    "        areas.append(x_values[i] * y[i])\n",
    "    \n",
    "    return sum(areas)\n",
    "    "
   ]
  },
  {
   "cell_type": "code",
   "execution_count": null,
   "id": "4bc57c76",
   "metadata": {},
   "outputs": [],
   "source": []
  }
 ],
 "metadata": {
  "kernelspec": {
   "display_name": "Python 3.8.8 64-bit ('base': conda)",
   "language": "python",
   "name": "python388jvsc74a57bd0bdca5ff6ba62dee4363c7047d360755810fb6dc51c27e8ff12c1c89bbd008f88"
  },
  "language_info": {
   "codemirror_mode": {
    "name": "ipython",
    "version": 3
   },
   "file_extension": ".py",
   "mimetype": "text/x-python",
   "name": "python",
   "nbconvert_exporter": "python",
   "pygments_lexer": "ipython3",
   "version": "3.8.8"
  }
 },
 "nbformat": 4,
 "nbformat_minor": 5
}
