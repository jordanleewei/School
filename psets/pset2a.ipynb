{
 "cells": [
  {
   "cell_type": "code",
   "execution_count": 5,
   "metadata": {},
   "outputs": [
    {
     "name": "stdout",
     "output_type": "stream",
     "text": [
      "10.0\n",
      "22.2\n",
      "21.5\n"
     ]
    }
   ],
   "source": [
    "def calculate_bmi(weight,height):\n",
    "    height = height/100\n",
    "    bmi = weight / (height**2)\n",
    "    return round(bmi, 1)\n",
    "\n",
    "\n",
    "print ( calculate_bmi (2.5,50) )\n",
    "print ( calculate_bmi (50 ,150) )\n",
    "print ( calculate_bmi (43.5 ,142.3) )"
   ]
  },
  {
   "cell_type": "code",
   "execution_count": 6,
   "metadata": {},
   "outputs": [
    {
     "name": "stdout",
     "output_type": "stream",
     "text": [
      "(0.0, 5.0)\n",
      "(5.095, 0.19)\n",
      "(1.324, 2.943)\n"
     ]
    }
   ],
   "source": [
    "def position_velocity(v, t):\n",
    "  a = (v*t)-(0.5)*(9.81)*(t**2)\n",
    "  b = v - (9.81)*(t)\n",
    "  return round(a,3), round(b,3)\n",
    "\n",
    "print(position_velocity(5.0, 0))\n",
    "print(position_velocity(10.0, 1))\n",
    "print(position_velocity(5.886, 0.3))"
   ]
  },
  {
   "cell_type": "code",
   "execution_count": 7,
   "metadata": {},
   "outputs": [
    {
     "name": "stdout",
     "output_type": "stream",
     "text": [
      "1.0\n",
      "0.19876611034641298\n"
     ]
    }
   ],
   "source": [
    "import math\n",
    "\n",
    "def decay(a, t):\n",
    "  e = math.e\n",
    "  x = (e**(-a * t))*math.cos(a * t)\n",
    "  return x\n",
    "\n",
    "print ( decay(2, 0) )\n",
    "print ( decay(2, 0.5) )\n"
   ]
  },
  {
   "cell_type": "code",
   "execution_count": 8,
   "metadata": {},
   "outputs": [
    {
     "name": "stdout",
     "output_type": "stream",
     "text": [
      "low risk\n",
      "low risk\n",
      "moderate risk\n",
      "high risk\n"
     ]
    }
   ],
   "source": [
    "def describe_bmi(bmi):\n",
    "  if bmi < 18.5:\n",
    "    return \"nutritional deficiency\"\n",
    "  elif bmi < 23:\n",
    "    return \"low risk\"\n",
    "  elif bmi < 27.5:\n",
    "    return \"moderate risk\"\n",
    "  else:\n",
    "    return \"high risk\"\n",
    "\n",
    "print(describe_bmi(18.5))\n",
    "print(describe_bmi(20)) \n",
    "print(describe_bmi(23))\n",
    "print(describe_bmi(27.5))"
   ]
  },
  {
   "cell_type": "code",
   "execution_count": 9,
   "metadata": {},
   "outputs": [],
   "source": [
    "def is_positive_even(n):\n",
    "  if n < 0:\n",
    "    return False\n",
    "  else:\n",
    "    if n % 2 == 0:\n",
    "      return True\n",
    "    else:\n",
    "      return False\n",
    "pass"
   ]
  },
  {
   "cell_type": "code",
   "execution_count": 10,
   "metadata": {},
   "outputs": [
    {
     "name": "stdout",
     "output_type": "stream",
     "text": [
      "None\n",
      "A\n",
      "D\n"
     ]
    }
   ],
   "source": [
    "def letter_grade(mark):\n",
    "    if mark > 100 or mark <= 0:\n",
    "        return None\n",
    "    elif (mark >= 90 and mark <= 100):\n",
    "        return \"A\"\n",
    "    elif (mark >= 80):\n",
    "        return \"B\"\n",
    "    elif (mark >= 70):\n",
    "        return \"C\"\n",
    "    elif (mark >= 60):\n",
    "        return \"D\"\n",
    "    elif (mark >= 0):\n",
    "        return \"E\"\n",
    "    else:\n",
    "        return\n",
    "\n",
    "print(letter_grade(-2))\n",
    "print(letter_grade(100))\n",
    "print(letter_grade(60))\n",
    "  "
   ]
  },
  {
   "cell_type": "code",
   "execution_count": 11,
   "metadata": {},
   "outputs": [
    {
     "name": "stdout",
     "output_type": "stream",
     "text": [
      "42\n",
      "None\n",
      "None\n"
     ]
    }
   ],
   "source": [
    "def largest_area(s,u,v):\n",
    "    for value in s, u, v:\n",
    "      if value < 0 or u > s or v > s:\n",
    "        return\n",
    "\n",
    "    def longer(a):\n",
    "      if s - a > a:\n",
    "        return (s-a)\n",
    "      else:\n",
    "        return a\n",
    "  \n",
    "    area = longer(u) * longer(v)\n",
    "\n",
    "    return area"
   ]
  },
  {
   "cell_type": "code",
   "execution_count": null,
   "metadata": {},
   "outputs": [],
   "source": []
  }
 ],
 "metadata": {
  "interpreter": {
   "hash": "7812ea015bdcee6f23a998adcdd2ef97c151c0c241b7b7070987d9313e41299d"
  },
  "kernelspec": {
   "display_name": "Python 3.9.4 64-bit",
   "name": "python3"
  },
  "language_info": {
   "codemirror_mode": {
    "name": "ipython",
    "version": 3
   },
   "file_extension": ".py",
   "mimetype": "text/x-python",
   "name": "python",
   "nbconvert_exporter": "python",
   "pygments_lexer": "ipython3",
   "version": "3.9.4"
  },
  "orig_nbformat": 4
 },
 "nbformat": 4,
 "nbformat_minor": 2
}
