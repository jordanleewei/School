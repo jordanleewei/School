{
 "cells": [
  {
   "cell_type": "code",
   "execution_count": 1,
   "id": "8b99831e",
   "metadata": {},
   "outputs": [
    {
     "name": "stdout",
     "output_type": "stream",
     "text": [
      "{1: 2, 2: 4}\n",
      "{7: 10, 8: 40}\n"
     ]
    }
   ],
   "source": [
    "def increase_value(sample_dict,key):\n",
    "    if key in sample_dict:\n",
    "        sample_dict[key] += 1\n",
    "    return sample_dict\n",
    "    \n",
    "sample_dict = {1:2, 2:3}\n",
    "key = 2\n",
    "increase_value(sample_dict, key)\n",
    "print(sample_dict)\n",
    "dd2 = {7:10, 8:40}\n",
    "key = 3\n",
    "increase_value(dd2, key)\n",
    "print(dd2)"
   ]
  },
  {
   "cell_type": "code",
   "execution_count": 7,
   "id": "e45a573b",
   "metadata": {},
   "outputs": [
    {
     "name": "stdout",
     "output_type": "stream",
     "text": [
      "{'A': (4, 4), 'B': (-3, 4), 'C': (-1, 2)}\n",
      "{'F': (1, 2), 'G': (-3, 4), 'H': (-1, 2)}\n"
     ]
    }
   ],
   "source": [
    "def translate_point(dd,key,vector):\n",
    "    if key in dd:\n",
    "        dd[key] = (dd[key][0]+vector[0],dd[key][1]+vector[1])\n",
    "                \n",
    "    return dd\n",
    "\n",
    "dd = {'A': (1,2), 'B': (-3,4), 'C': (-1,2)}\n",
    "key = 'A'\n",
    "vector = (3, 2)\n",
    "translate_point(dd, key, vector)\n",
    "print(dd)\n",
    "\n",
    "dd2 = {'F': (1,2), 'G': (-3,4), 'H': (-1,2)}\n",
    "key = 'D'\n",
    "vector = (3, 2)\n",
    "translate_point(dd2, key, vector)\n",
    "print(dd2)"
   ]
  },
  {
   "cell_type": "code",
   "execution_count": 9,
   "id": "fbadd6a8",
   "metadata": {},
   "outputs": [
    {
     "name": "stdout",
     "output_type": "stream",
     "text": [
      "{'A': (1, 2), 'B': (-3, 4), 'C': (-1, 2)}\n",
      "{'A': (4, 4), 'B': (-3, 4), 'C': (-1, 2)}\n",
      "False\n"
     ]
    }
   ],
   "source": [
    "def translate_point_new(dd,key,vector):\n",
    "    dd_new = dd.copy()\n",
    "    if key in dd:\n",
    "        dd_new[key] = (dd[key][0]+vector[0],dd[key][1]+vector[1])\n",
    "    return dd_new\n",
    "\n",
    "dd = {'A': (1,2), 'B': (-3,4), 'C': (-1,2)}\n",
    "key = 'A'\n",
    "vector = (3, 2)\n",
    "d_new = translate_point_new(dd, key, vector)\n",
    "print(dd)\n",
    "print(d_new)\n",
    "print(d_new is dd)"
   ]
  },
  {
   "cell_type": "code",
   "execution_count": 24,
   "id": "fa94e7dc",
   "metadata": {},
   "outputs": [
    {
     "name": "stdout",
     "output_type": "stream",
     "text": [
      "[12, 9, 5, 10, 2, 4, 10, 12]\n",
      "[4, 9, 5, 10, 2, 4, 10, 4]\n"
     ]
    }
   ],
   "source": [
    "def replace_values(ls,value1,value2):\n",
    "    ls[:] = [value2 if x == value1 else x for x in ls]\n",
    "\n",
    "\n",
    "ls1 = [3, 9, 5, 10, 2, 4, 10, 3]\n",
    "value1 = 3\n",
    "value2 = 12\n",
    "replace_values(ls1, 3, 12)\n",
    "print(ls1)\n",
    "\n",
    "ls2 = [4, 9, 5, 10, 2, 4, 10, 4]\n",
    "value1 = 3\n",
    "value2 = 12\n",
    "replace_values(ls2, 3, 12)\n",
    "print(ls2)"
   ]
  },
  {
   "cell_type": "code",
   "execution_count": 25,
   "id": "f752c939",
   "metadata": {},
   "outputs": [
    {
     "name": "stdout",
     "output_type": "stream",
     "text": [
      "ls1 [3, 9, 5, 10, 2, 4, 10, 3]\n",
      "ls2 [12, 9, 5, 10, 2, 4, 10, 12]\n",
      "ls3 [4, 9, 5, 10, 2, 4, 10, 4]\n",
      "ls4 [4, 9, 5, 10, 2, 4, 10, 4]\n"
     ]
    }
   ],
   "source": [
    "def replace_values(ls,value1,value2):\n",
    "    return [value2 if x == value1 else x for x in ls]\n",
    "\n",
    "ls1 = [3, 9, 5, 10, 2, 4, 10, 3]\n",
    "ls2 = replace_values(ls1, 3, 12)\n",
    "print(\"ls1\", ls1)\n",
    "print(\"ls2\", ls2)\n",
    "\n",
    "ls3 = [4, 9, 5, 10, 2, 4, 10, 4]\n",
    "ls4 = replace_values(ls3, 3, 12)\n",
    "print(\"ls3\", ls3)\n",
    "print(\"ls4\", ls4)"
   ]
  },
  {
   "cell_type": "code",
   "execution_count": 49,
   "id": "09181eab",
   "metadata": {},
   "outputs": [
    {
     "name": "stdout",
     "output_type": "stream",
     "text": [
      "(-3.0, 0.0)\n",
      "{'A': (1, 2), 'B': (-3.0, 0.0), 'C': (-1, 2)}\n"
     ]
    }
   ],
   "source": [
    "def equation_of_line( point1, point2 ):\n",
    "    a = point2[0] - point1[0]\n",
    "    b = - (point2[1] - point1[1])\n",
    "    c = point1[1]*(-b) - point1[1]*a\n",
    "    return a,b,c\n",
    "\n",
    "\n",
    "def reflect( point, eqn ):\n",
    "    a,b,c,p,q = eqn[0],eqn[1],eqn[2],point[0],point[1]\n",
    "    p_new = (p*(a**2 - b**2) - 2*b*(a*q+c))/(a**2 + b**2)\n",
    "    q_new = (q*(b**2 - a**2) - 2*a*(b*q+c))/(a**2 + b**2)\n",
    "    return (p_new, q_new)\n",
    "\n",
    "def reflect_triangle(dd, point):\n",
    "    reflection = [x for x in dd if x != point]\n",
    "    eqn = equation_of_line(dd[reflection[0]], dd[reflection[1]])\n",
    "    print(reflect(dd[point], eqn))\n",
    "    dd[point] = reflect(dd[point], eqn)\n",
    "    return dd\n",
    "\n",
    "# print(equation_of_line( (1, 2), (-1, 2)))\n",
    "# print(reflect( (-3, 4) , (2, 0, -4) ) )\n",
    "    \n",
    "dd = {'A': (1,2), 'B': (-3,4), 'C': (-1,2)}\n",
    "d_new = reflect_triangle(dd, 'B')\n",
    "print(d_new)"
   ]
  },
  {
   "cell_type": "code",
   "execution_count": null,
   "id": "c6b5e6d7",
   "metadata": {},
   "outputs": [],
   "source": []
  }
 ],
 "metadata": {
  "kernelspec": {
   "display_name": "Python 3.8.8 64-bit ('base': conda)",
   "language": "python",
   "name": "python388jvsc74a57bd0c04937715515cf268e8bc0322666f8c6ce6037a098ac204a230d3078fa879d1d"
  },
  "language_info": {
   "codemirror_mode": {
    "name": "ipython",
    "version": 3
   },
   "file_extension": ".py",
   "mimetype": "text/x-python",
   "name": "python",
   "nbconvert_exporter": "python",
   "pygments_lexer": "ipython3",
   "version": "3.8.8"
  }
 },
 "nbformat": 4,
 "nbformat_minor": 5
}
