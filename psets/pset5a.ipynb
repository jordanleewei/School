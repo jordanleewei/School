{
 "cells": [
  {
   "cell_type": "code",
   "execution_count": 2,
   "id": "4fd42cfa",
   "metadata": {},
   "outputs": [
    {
     "name": "stdout",
     "output_type": "stream",
     "text": [
      "{'apple': 0.43, 'orange': 0.51}\n",
      "None\n"
     ]
    }
   ],
   "source": [
    "def create_dictionary(fruits, prices):\n",
    "    if len(fruits) != len(prices):\n",
    "        return None\n",
    "    return dict(zip(fruits, prices))\n",
    "\n",
    "f = ['apple', 'orange']\n",
    "p = [0.43, 0.51]\n",
    "dd = create_dictionary(f, p)\n",
    "print(dd)\n",
    "f = ['apple']\n",
    "p = [0.43, 0.51]\n",
    "dd = create_dictionary(f, p)\n",
    "print(dd)"
   ]
  },
  {
   "cell_type": "code",
   "execution_count": 6,
   "id": "ddf2a5aa",
   "metadata": {},
   "outputs": [
    {
     "name": "stdout",
     "output_type": "stream",
     "text": [
      "3\n",
      "None\n"
     ]
    }
   ],
   "source": [
    "def get_value(sample_dict,key):\n",
    "    return sample_dict[key] if key in sample_dict else None\n",
    "    \n",
    "sample_dict = {1:2, 2:3}\n",
    "key = 2\n",
    "value = get_value(sample_dict, key)\n",
    "print(value)\n",
    "key = 3\n",
    "value = get_value(sample_dict, key)\n",
    "print(value)"
   ]
  },
  {
   "cell_type": "code",
   "execution_count": 7,
   "id": "f67d1aef",
   "metadata": {},
   "outputs": [
    {
     "name": "stdout",
     "output_type": "stream",
     "text": [
      "2.24\n",
      "None\n"
     ]
    }
   ],
   "source": [
    "def extract_data(dd,key):\n",
    "    if key in dd:\n",
    "        return round((dd[key][0]**2 + dd[key][1]**2)**0.5, 2)\n",
    "    else:\n",
    "        return None\n",
    "    \n",
    "dd = {'A': (1,2), 'B': (-3,4), 'C': (-1,2)}\n",
    "key = 'A'\n",
    "result = extract_data(dd, key)\n",
    "print(result)\n",
    "key = 'D'\n",
    "result = extract_data(dd, key)\n",
    "print(result)"
   ]
  },
  {
   "cell_type": "code",
   "execution_count": 11,
   "id": "8287b216",
   "metadata": {},
   "outputs": [
    {
     "name": "stdout",
     "output_type": "stream",
     "text": [
      "{'A': 2, 'C': 3, 'G': 1, 'T': 1}\n",
      "{'A': 2, 'C': 2, 'G': 1, 'T': 0}\n",
      "The input DNA string is invalid\n"
     ]
    }
   ],
   "source": [
    "def get_base_counts(dna):\n",
    "    dna = list(dna)\n",
    "    output = {\"A\":0, \"C\":0, \"G\":0, \"T\":0}\n",
    "    for letter in dna:\n",
    "        if letter == \"A\": output[\"A\"] += 1\n",
    "        elif letter == \"C\": output[\"C\"] += 1\n",
    "        elif letter == \"G\": output[\"G\"] += 1\n",
    "        elif letter == \"T\": output[\"T\"] += 1\n",
    "        else: return \"The input DNA string is invalid\"\n",
    "    return output\n",
    "\n",
    "result = get_base_counts('AACCCGT')\n",
    "print(result)\n",
    "result = get_base_counts('AACCG')\n",
    "print(result)\n",
    "result = get_base_counts('AAB')\n",
    "print(result)"
   ]
  },
  {
   "cell_type": "code",
   "execution_count": 16,
   "id": "e5901c3a",
   "metadata": {},
   "outputs": [
    {
     "name": "stdout",
     "output_type": "stream",
     "text": [
      "2.12\n"
     ]
    }
   ],
   "source": [
    "def evaluate_polynomial(dd,x):\n",
    "    output = 0\n",
    "    for key in dd:\n",
    "        output += dd[key]*x**key\n",
    "    return round(output,2)\n",
    "\n",
    "\n",
    "dd = {3:1, 1:2, 0:1}\n",
    "x = 0.5\n",
    "result = evaluate_polynomial(dd,x)\n",
    "print(result)"
   ]
  },
  {
   "cell_type": "code",
   "execution_count": 26,
   "id": "42e363b1",
   "metadata": {},
   "outputs": [
    {
     "name": "stdout",
     "output_type": "stream",
     "text": [
      "{2: 6, 4: -5}\n"
     ]
    }
   ],
   "source": [
    "def diff(pp):\n",
    "    dp = {}\n",
    "    for key in pp:\n",
    "        if key != 0:\n",
    "            dp[key-1] = key*pp[key]\n",
    "    return dp\n",
    "\n",
    "p={0:-3, 3:2, 5:-1} \n",
    "result = diff(p)\n",
    "print(result)"
   ]
  },
  {
   "cell_type": "code",
   "execution_count": 30,
   "id": "2fd7daea",
   "metadata": {},
   "outputs": [
    {
     "name": "stdout",
     "output_type": "stream",
     "text": [
      "Noctis\n",
      "None\n"
     ]
    }
   ],
   "source": [
    "def read_list(ls, reg_no, key):\n",
    "    for index in ls:\n",
    "        if index['reg'] == reg_no:\n",
    "            return index[key] if key in index else None\n",
    "        \n",
    "ls = [\n",
    "  {'reg': '1234A', 'make':'Caelum', 'price': 24999}, \n",
    "  {'reg': '888B', 'make':'Noctis', 'price': 12499}, \n",
    "  {'reg': '365K', 'make':'Cloud', 'price': 7499},\n",
    "  {'reg': '1043W', 'price': 2499}, \n",
    "  {'reg': '7422M', 'make': 'Lucis'} ]\n",
    "        \n",
    "result = read_list(ls, '888B', 'make')\n",
    "print(result)\n",
    "result = read_list(ls, '7422M', 'price')\n",
    "print(result)"
   ]
  },
  {
   "cell_type": "code",
   "execution_count": 34,
   "id": "0a1579a5",
   "metadata": {},
   "outputs": [
    {
     "name": "stdout",
     "output_type": "stream",
     "text": [
      "('b', 132)\n"
     ]
    }
   ],
   "source": [
    "def get_highest_value(dd):\n",
    "    highest = 0\n",
    "    key_highest = \"\"\n",
    "    for key in dd:\n",
    "        if dd[key] > highest:\n",
    "            highest = dd[key]\n",
    "            key_highest = key\n",
    "    \n",
    "    return (key_highest, highest)\n",
    "\n",
    "data = {'a': 123, 'b': 132, 'c': 95}\n",
    "results = get_highest_value(data)\n",
    "print(results)"
   ]
  },
  {
   "cell_type": "code",
   "execution_count": null,
   "id": "8a895b6c",
   "metadata": {},
   "outputs": [],
   "source": []
  }
 ],
 "metadata": {
  "kernelspec": {
   "display_name": "Python 3.9.4 64-bit",
   "language": "python",
   "name": "python394jvsc74a57bd0949777d72b0d2535278d3dc13498b2535136f6dfe0678499012e853ee9abcab1"
  },
  "language_info": {
   "codemirror_mode": {
    "name": "ipython",
    "version": 3
   },
   "file_extension": ".py",
   "mimetype": "text/x-python",
   "name": "python",
   "nbconvert_exporter": "python",
   "pygments_lexer": "ipython3",
   "version": "3.9.4"
  }
 },
 "nbformat": 4,
 "nbformat_minor": 5
}
