{
 "cells": [
  {
   "cell_type": "code",
   "execution_count": 1,
   "metadata": {},
   "outputs": [
    {
     "name": "stdout",
     "output_type": "stream",
     "text": [
      "1.03\n",
      "1.127\n",
      "2.717\n"
     ]
    }
   ],
   "source": [
    "def compound_interest(amount, rate,periods, time):\n",
    "    f = amount * (1 + (rate/periods))**(periods * time)\n",
    "    return round(f, 3)\n",
    "\n",
    "\n",
    "print ( compound_interest(1, 0.03, 1, 1) )\n",
    "print ( compound_interest(1, 0.12 ,12, 1) )\n",
    "print ( compound_interest(1, 1 ,1000, 1) )\n"
   ]
  },
  {
   "cell_type": "code",
   "execution_count": 2,
   "metadata": {},
   "outputs": [
    {
     "name": "stdout",
     "output_type": "stream",
     "text": [
      "(3.14, 6.28)\n",
      "(12.57, 28.9)\n",
      "(7.07, 28.27)\n",
      "(15.21, 76.03)\n"
     ]
    }
   ],
   "source": [
    "import math\n",
    "\n",
    "def area_vol_cylinder(radius, length):\n",
    "    area = math.pi * (radius**2)\n",
    "    volume = area * length\n",
    "    return round(area,2), round(volume,2)\n",
    "\n",
    "print(area_vol_cylinder(1.0,2.0))\n",
    "print(area_vol_cylinder(2.0,2.3))\n",
    "print(area_vol_cylinder(1.5,4))\n",
    "print(area_vol_cylinder(2.2,5.0))\n"
   ]
  },
  {
   "cell_type": "code",
   "execution_count": 3,
   "metadata": {},
   "outputs": [
    {
     "name": "stdout",
     "output_type": "stream",
     "text": [
      "(8, 11, 40)\n",
      "(2, 0, 10)\n"
     ]
    }
   ],
   "source": [
    "def seconds_to_hours( seconds):\n",
    "    hours = seconds // (60**2)\n",
    "    minutes = (seconds // 60) - (hours*60)\n",
    "    seconds = seconds % (60)\n",
    "\n",
    "    return hours, minutes, seconds\n",
    "\n",
    "print(seconds_to_hours(29500))\n",
    "print(seconds_to_hours(7210))"
   ]
  },
  {
   "cell_type": "code",
   "execution_count": 4,
   "metadata": {},
   "outputs": [
    {
     "name": "stdout",
     "output_type": "stream",
     "text": [
      "None\n",
      "0.0\n",
      "37.22\n",
      "100.0\n"
     ]
    }
   ],
   "source": [
    "def fahrenheit_to_celsius(f):\n",
    "    c = (f - 32) * (5 / 9)\n",
    "    if c < -273.15:\n",
    "        return None\n",
    "    else:\n",
    "        return round(c,2)\n",
    "\n",
    "print(fahrenheit_to_celsius(-500))\n",
    "print(fahrenheit_to_celsius(32))\n",
    "print(fahrenheit_to_celsius(99)) \n",
    "print(fahrenheit_to_celsius(212))"
   ]
  }
 ],
 "metadata": {
  "interpreter": {
   "hash": "949777d72b0d2535278d3dc13498b2535136f6dfe0678499012e853ee9abcab1"
  },
  "kernelspec": {
   "display_name": "Python 3.9.4 64-bit",
   "name": "python3"
  },
  "language_info": {
   "codemirror_mode": {
    "name": "ipython",
    "version": 3
   },
   "file_extension": ".py",
   "mimetype": "text/x-python",
   "name": "python",
   "nbconvert_exporter": "python",
   "pygments_lexer": "ipython3",
   "version": "3.9.4"
  }
 },
 "nbformat": 4,
 "nbformat_minor": 5
}
