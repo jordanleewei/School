{
 "cells": [
  {
   "cell_type": "code",
   "execution_count": 15,
   "id": "28934ab8",
   "metadata": {},
   "outputs": [
    {
     "name": "stdout",
     "output_type": "stream",
     "text": [
      "0.5\n",
      "0.5833333333333333\n",
      "0.6456349206349207\n"
     ]
    }
   ],
   "source": [
    "def alternating(n):\n",
    "    sum = 0\n",
    "    for i in range (1, n + 1):\n",
    "        number = ((-1)**(i + 1))/i\n",
    "        sum += number\n",
    "    return sum"
   ]
  },
  {
   "cell_type": "code",
   "execution_count": 17,
   "id": "1e52d46c",
   "metadata": {},
   "outputs": [
    {
     "name": "stdout",
     "output_type": "stream",
     "text": [
      "102.53\n"
     ]
    }
   ],
   "source": [
    "def compound_interest(principal, rate, months ):\n",
    "    value = principal\n",
    "    for i in range(months):\n",
    "        value = value * (1 + rate/12)\n",
    "    return round(value, 2)\n",
    "\n",
    "\n",
    "value = compound_interest( 100, 0.05, 6)\n",
    "print(value)"
   ]
  },
  {
   "cell_type": "code",
   "execution_count": 19,
   "id": "0d1ab0b3",
   "metadata": {},
   "outputs": [
    {
     "name": "stdout",
     "output_type": "stream",
     "text": [
      "608.811017705596\n"
     ]
    }
   ],
   "source": [
    "def regular_savings( deposit, rate, months):\n",
    "    value = 0\n",
    "    for i in range(months):\n",
    "        value = (deposit + value) * (1 + (rate / 12))\n",
    "    return round(value,2)\n",
    "    pass \n",
    "\n",
    "### code to execute your function\n",
    "value = regular_savings( 100, 0.05, 6)\n",
    "print(value)"
   ]
  },
  {
   "cell_type": "code",
   "execution_count": 20,
   "id": "af55d8e7",
   "metadata": {},
   "outputs": [
    {
     "name": "stdout",
     "output_type": "stream",
     "text": [
      "0\n",
      "1.0\n",
      "1.5497677311665408\n"
     ]
    }
   ],
   "source": [
    "def sum_of_series(n):\n",
    "    if n < 1:\n",
    "        return 0\n",
    "    else:\n",
    "        sum = 0\n",
    "        for i in range(1, n + 1):\n",
    "            sum += 1/(i**2)\n",
    "        return sum\n",
    "    pass\n",
    "\n",
    "a = sum_of_series(0)\n",
    "print(a)\n",
    "a = sum_of_series(1)\n",
    "print(a)\n",
    "a = sum_of_series(10)\n",
    "print(a)"
   ]
  },
  {
   "cell_type": "code",
   "execution_count": 42,
   "id": "b19d7abe",
   "metadata": {},
   "outputs": [
    {
     "name": "stdout",
     "output_type": "stream",
     "text": [
      "True\n"
     ]
    }
   ],
   "source": [
    "def is_prime(n):\n",
    "    prime = True\n",
    "    for i in range(2, n):\n",
    "        if n % i == 0:\n",
    "            prime = False\n",
    "    return prime\n",
    "\n",
    "print(is_prime(17))"
   ]
  },
  {
   "cell_type": "code",
   "execution_count": 30,
   "id": "5a17ccb1",
   "metadata": {},
   "outputs": [
    {
     "name": "stdout",
     "output_type": "stream",
     "text": [
      "1.4913888888888889\n",
      "0.91189065278104\n",
      "6\n"
     ]
    }
   ],
   "source": [
    "import math\n",
    "\n",
    "def sum_of_series(n):\n",
    "    if n < 1:\n",
    "        return 0\n",
    "    else:\n",
    "        sum = 0\n",
    "        for i in range(1, n + 1):\n",
    "            sum += 1/(i**2)\n",
    "        return sum\n",
    "    pass\n",
    "    \n",
    "def fraction_of_pisq(s):\n",
    "    return s / (((math.pi)**2)/6)\n",
    "    pass\n",
    "    \n",
    "def terms_required(p):\n",
    "    n = 0\n",
    "    frac = 0\n",
    "    while frac < p:\n",
    "        n += 1\n",
    "        frac = fraction_of_pisq(sum_of_series(n))\n",
    "    return n\n",
    "    pass\n",
    "\n",
    "solution = sum_of_series(6)\n",
    "print(solution)\n",
    "fraction = fraction_of_pisq(1.5)\n",
    "print(fraction)\n",
    "n_terms = terms_required(0.9)\n",
    "print(n_terms)"
   ]
  },
  {
   "cell_type": "code",
   "execution_count": 52,
   "id": "135d990a",
   "metadata": {},
   "outputs": [
    {
     "name": "stdout",
     "output_type": "stream",
     "text": [
      "0.7833333333333332\n"
     ]
    }
   ],
   "source": [
    "def alternating_while(stop):\n",
    "    larger = True\n",
    "    n = 1\n",
    "    while larger:\n",
    "        number = ((-1)**(n+1))/n\n",
    "        if abs(number) <= stop:\n",
    "            larger = False\n",
    "        else:\n",
    "            n += 1\n",
    "    \n",
    "    def alternating(n):\n",
    "        sum = 0\n",
    "        for i in range (1, n + 1):\n",
    "            number = ((-1)**(i + 1))/i\n",
    "            sum += number\n",
    "        return sum\n",
    "    \n",
    "    return alternating(n)\n",
    "\n",
    "### write code to execute the loop\n",
    "print(alternating_while(0.21))"
   ]
  },
  {
   "cell_type": "code",
   "execution_count": null,
   "id": "46ab2a14",
   "metadata": {},
   "outputs": [],
   "source": []
  }
 ],
 "metadata": {
  "kernelspec": {
   "display_name": "Python 3.8.8 64-bit ('base': conda)",
   "language": "python",
   "name": "python388jvsc74a57bd0bdca5ff6ba62dee4363c7047d360755810fb6dc51c27e8ff12c1c89bbd008f88"
  },
  "language_info": {
   "codemirror_mode": {
    "name": "ipython",
    "version": 3
   },
   "file_extension": ".py",
   "mimetype": "text/x-python",
   "name": "python",
   "nbconvert_exporter": "python",
   "pygments_lexer": "ipython3",
   "version": "3.8.8"
  }
 },
 "nbformat": 4,
 "nbformat_minor": 5
}
