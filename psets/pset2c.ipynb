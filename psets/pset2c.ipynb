{
 "cells": [
  {
   "cell_type": "code",
   "execution_count": 2,
   "metadata": {},
   "outputs": [
    {
     "name": "stdout",
     "output_type": "stream",
     "text": [
      "2.6458\n",
      "None\n",
      "0.5774\n",
      "1.0\n"
     ]
    }
   ],
   "source": [
    "import math\n",
    "\n",
    "def sequence(n):\n",
    "    if n >= -3 and n < -0.5:\n",
    "        return None\n",
    "    else:\n",
    "        return round(math.sqrt((2*n + 1)/(n + 3)), 4)\n",
    "    \n",
    "    \n",
    "    pass\n",
    "print(sequence(-4.0))\n",
    "print(sequence(-2.0))\n",
    "print(sequence(0.0))\n",
    "print(sequence(2.0))"
   ]
  },
  {
   "cell_type": "code",
   "execution_count": 3,
   "metadata": {},
   "outputs": [
    {
     "name": "stdout",
     "output_type": "stream",
     "text": [
      "True\n",
      "False\n",
      "False\n",
      "False\n"
     ]
    }
   ],
   "source": [
    "def check_value( n1, n2, n3, x):\n",
    "    if x > n1 and x > n2:\n",
    "        if x < n3:\n",
    "            return True\n",
    "        else:\n",
    "            return False\n",
    "    else:\n",
    "        return False\n",
    "\n",
    "ans=check_value(1,4,8,7)\n",
    "print(ans)\n",
    "ans=check_value(10,4,8,7)\n",
    "print(ans)\n",
    "ans=check_value(1,10,8,7)\n",
    "print(ans)\n",
    "ans=check_value(1,4,5,7)\n",
    "print(ans)"
   ]
  }
 ],
 "metadata": {
  "interpreter": {
   "hash": "949777d72b0d2535278d3dc13498b2535136f6dfe0678499012e853ee9abcab1"
  },
  "kernelspec": {
   "display_name": "Python 3.9.4 64-bit",
   "name": "python3"
  },
  "language_info": {
   "codemirror_mode": {
    "name": "ipython",
    "version": 3
   },
   "file_extension": ".py",
   "mimetype": "text/x-python",
   "name": "python",
   "nbconvert_exporter": "python",
   "pygments_lexer": "ipython3",
   "version": "3.9.4"
  }
 },
 "nbformat": 4,
 "nbformat_minor": 5
}
